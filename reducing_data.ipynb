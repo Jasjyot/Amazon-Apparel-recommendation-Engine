{
 "cells": [
  {
   "cell_type": "code",
   "execution_count": 32,
   "metadata": {},
   "outputs": [],
   "source": [
    "data.to_pickle('pickels/180k_apparel_data')"
   ]
  },
  {
   "cell_type": "markdown",
   "metadata": {},
   "source": [
    "Saving the data at every key stage of development to pickels folder. Can be refernced in future to avoid the delay caused by time of code execution for large datasets.  "
   ]
  },
  {
   "cell_type": "code",
   "execution_count": 48,
   "metadata": {},
   "outputs": [
    {
     "name": "stdout",
     "output_type": "stream",
     "text": [
      "No. of data points/products after eliminating unpriced products:  28395\n"
     ]
    }
   ],
   "source": [
    "data=data.loc[~data['formatted_price'].isnull()]\n",
    "#eleminating data points which do not have price.\n",
    "#elemination done to reduce the size of data\n",
    "#reduction in size results increase in speed of processing\n",
    "#solely done to avoid processing time\n",
    "#This step can be avoided if waiting time and patience is not taken into account.\n",
    "print('No. of data points/products after eliminating unpriced products: ',data.shape[0])"
   ]
  },
  {
   "cell_type": "code",
   "execution_count": 51,
   "metadata": {},
   "outputs": [
    {
     "name": "stdout",
     "output_type": "stream",
     "text": [
      "No. of data points/products after eliminating colorless products:  28385\n"
     ]
    }
   ],
   "source": [
    "#eleminating data points where color is not mentioned.\n",
    "#elemination done to reduce the size of data\n",
    "#reduction in size results increase in speed of processing\n",
    "#solely done to avoid processing time\n",
    "#This step can be avoided if waiting time and patience is not taken into account.\n",
    "data=data.loc[~data['color'].isnull()]\n",
    "print('No. of data points/products after eliminating colorless products: ',data.shape[0])"
   ]
  },
  {
   "cell_type": "markdown",
   "metadata": {},
   "source": [
    "### Data set is reduced from 183K products to 28K products, so that code snippets can run in laptops in a reasonable amount of time. "
   ]
  },
  {
   "cell_type": "code",
   "execution_count": 52,
   "metadata": {},
   "outputs": [],
   "source": [
    "data.to_pickle('pickels/28k_apparel_data')\n",
    "#storing data at key stage."
   ]
  }
 ],
 "metadata": {
  "kernelspec": {
   "display_name": "Python 3",
   "language": "python",
   "name": "python3"
  },
  "language_info": {
   "codemirror_mode": {
    "name": "ipython",
    "version": 3
   },
   "file_extension": ".py",
   "mimetype": "text/x-python",
   "name": "python",
   "nbconvert_exporter": "python",
   "pygments_lexer": "ipython3",
   "version": "3.6.4"
  }
 },
 "nbformat": 4,
 "nbformat_minor": 2
}
